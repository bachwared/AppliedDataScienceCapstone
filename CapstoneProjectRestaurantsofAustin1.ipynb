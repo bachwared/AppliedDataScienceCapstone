{
 "cells": [
  {
   "cell_type": "markdown",
   "metadata": {},
   "source": [
    "# Capstone Project - Restaurants of Austin\n",
    "### Applied Data Science Capstone"
   ]
  },
  {
   "cell_type": "markdown",
   "metadata": {},
   "source": [
    "## Table of contents\n",
    "\n",
    "1. Introduction/Business Problem\n",
    "2. Data\n",
    "3. Methodology \n",
    "4. Results \n",
    "5. Discussion\n",
    "6. Conclusion"
   ]
  },
  {
   "cell_type": "markdown",
   "metadata": {},
   "source": [
    "### Introduction\n",
    "\n",
    "The business problem is to get the pricing and rating of restaurants by zip codes in Austin, map them based on pricing and rating independently and group them into clusters based both pricing and rating to provide these details to newcomers.\n",
    "\n",
    "Austin is one of top growing cities, many families and businesses are relocating to the city. One of key information that the potential newcomers need is pricing and rating information of venues particularly restaurants in different neighborhoods of the city so that they can choose an area that suits their needs. "
   ]
  },
  {
   "cell_type": "markdown",
   "metadata": {},
   "source": [
    "### Data\n",
    "\n",
    "The required data that is needed for this problem is to first get all zip codes in Austin. Then get the restaurants in each zip code and finally get pricing and rating for each restaurant.\n",
    "\n",
    "We will be using opendatasoft to get zip codes of the city along with the latitude and longitude information and will be using the google places api to get the restaurants in each zip code along with their pricing and rating details."
   ]
  },
  {
   "cell_type": "code",
   "execution_count": null,
   "metadata": {},
   "outputs": [],
   "source": []
  }
 ],
 "metadata": {
  "kernelspec": {
   "display_name": "Python 3",
   "language": "python",
   "name": "python3"
  },
  "language_info": {
   "codemirror_mode": {
    "name": "ipython",
    "version": 3
   },
   "file_extension": ".py",
   "mimetype": "text/x-python",
   "name": "python",
   "nbconvert_exporter": "python",
   "pygments_lexer": "ipython3",
   "version": "3.7.4"
  }
 },
 "nbformat": 4,
 "nbformat_minor": 2
}
